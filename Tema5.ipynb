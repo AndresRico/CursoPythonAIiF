{
  "nbformat": 4,
  "nbformat_minor": 0,
  "metadata": {
    "colab": {
      "name": "Tema5.ipynb",
      "provenance": [],
      "authorship_tag": "ABX9TyOuGAl46mpkRrYSZVb759qB",
      "include_colab_link": true
    },
    "kernelspec": {
      "name": "python3",
      "display_name": "Python 3"
    }
  },
  "cells": [
    {
      "cell_type": "markdown",
      "metadata": {
        "id": "view-in-github",
        "colab_type": "text"
      },
      "source": [
        "<a href=\"https://colab.research.google.com/github/AndresRico/CursoPythonAIiF/blob/main/Tema5.ipynb\" target=\"_parent\"><img src=\"https://colab.research.google.com/assets/colab-badge.svg\" alt=\"Open In Colab\"/></a>"
      ]
    },
    {
      "cell_type": "markdown",
      "metadata": {
        "id": "GF_sG7QPZQhb"
      },
      "source": [
        "# Índices en listas"
      ]
    },
    {
      "cell_type": "code",
      "metadata": {
        "colab": {
          "base_uri": "https://localhost:8080/"
        },
        "id": "hXQBS9uDZNRU",
        "outputId": "5edb693f-d783-4639-b097-a613e28748d2"
      },
      "source": [
        "A = [89, 2, 3, 4, 5]\r\n",
        "print(A)\r\n",
        "\r\n",
        "print(A[0])\r\n",
        "\r\n",
        "A[0] = 1\r\n",
        "\r\n",
        "print(A)\r\n",
        "\r\n",
        "A[4] = 109\r\n",
        "\r\n",
        "print(A)\r\n"
      ],
      "execution_count": 5,
      "outputs": [
        {
          "output_type": "stream",
          "text": [
            "[89, 2, 3, 4, 5]\n",
            "89\n",
            "[1, 2, 3, 4, 5]\n",
            "[1, 2, 3, 4, 109]\n"
          ],
          "name": "stdout"
        }
      ]
    },
    {
      "cell_type": "markdown",
      "metadata": {
        "id": "cJa1_wxDaC_y"
      },
      "source": [
        "#Anadir elementos a listas"
      ]
    },
    {
      "cell_type": "code",
      "metadata": {
        "colab": {
          "base_uri": "https://localhost:8080/"
        },
        "id": "yr-BhTwQaGBH",
        "outputId": "9ac2846d-12ba-4901-f3f9-fc94bf3fb931"
      },
      "source": [
        "B = [1,2,3]\r\n",
        "B\r\n",
        "\r\n",
        "B.append(4)\r\n",
        "\r\n",
        "B"
      ],
      "execution_count": 7,
      "outputs": [
        {
          "output_type": "execute_result",
          "data": {
            "text/plain": [
              "[1, 2, 3, 4]"
            ]
          },
          "metadata": {
            "tags": []
          },
          "execution_count": 7
        }
      ]
    },
    {
      "cell_type": "code",
      "metadata": {
        "colab": {
          "base_uri": "https://localhost:8080/"
        },
        "id": "vIBHXHMCaYvI",
        "outputId": "481b5a1b-6c28-4c58-8a58-6af5ee1a2e7f"
      },
      "source": [
        "C=[]\r\n",
        "\r\n",
        "C\r\n",
        "\r\n",
        "C.append([1,2,3])\r\n",
        "C\r\n",
        "C.append([4,5,6])\r\n",
        "C\r\n",
        "C.append([7,8,9])\r\n",
        "C"
      ],
      "execution_count": 11,
      "outputs": [
        {
          "output_type": "execute_result",
          "data": {
            "text/plain": [
              "[[1, 2, 3], [4, 5, 6], [7, 8, 9]]"
            ]
          },
          "metadata": {
            "tags": []
          },
          "execution_count": 11
        }
      ]
    },
    {
      "cell_type": "code",
      "metadata": {
        "colab": {
          "base_uri": "https://localhost:8080/"
        },
        "id": "RO5CfmFxa-rW",
        "outputId": "c3a6c502-4ea6-4d1c-c580-24cac5bb9b19"
      },
      "source": [
        "#import numpy as np\r\n",
        "#C = np.array(C)\r\n",
        "#C\r\n"
      ],
      "execution_count": 12,
      "outputs": [
        {
          "output_type": "execute_result",
          "data": {
            "text/plain": [
              "array([[1, 2, 3],\n",
              "       [4, 5, 6],\n",
              "       [7, 8, 9]])"
            ]
          },
          "metadata": {
            "tags": []
          },
          "execution_count": 12
        }
      ]
    },
    {
      "cell_type": "markdown",
      "metadata": {
        "id": "uXUraYxnbE5p"
      },
      "source": [
        "#Operaciones a listas\r\n",
        "\r\n",
        "\r\n"
      ]
    },
    {
      "cell_type": "code",
      "metadata": {
        "colab": {
          "base_uri": "https://localhost:8080/"
        },
        "id": "W0fS-VEFbJvC",
        "outputId": "d6371276-092f-4670-fa26-efce639f6f89"
      },
      "source": [
        "print(C[0])\r\n",
        "print(C[1])\r\n",
        "\r\n",
        "print(C[1][0])\r\n",
        "\r\n",
        "print(C[2][2])\r\n",
        "\r\n"
      ],
      "execution_count": 16,
      "outputs": [
        {
          "output_type": "stream",
          "text": [
            "[1 2 3]\n",
            "[4 5 6]\n",
            "4\n",
            "9\n"
          ],
          "name": "stdout"
        }
      ]
    },
    {
      "cell_type": "code",
      "metadata": {
        "colab": {
          "base_uri": "https://localhost:8080/"
        },
        "id": "SbVXu-tNb8qZ",
        "outputId": "c931451d-c6f2-4e5a-e72d-6b27baeb87ae"
      },
      "source": [
        "D = [1,2,3,4,5,6,7,8,9,10]\r\n",
        "D"
      ],
      "execution_count": 18,
      "outputs": [
        {
          "output_type": "execute_result",
          "data": {
            "text/plain": [
              "[1, 2, 3, 4, 5, 6, 7, 8, 9, 10]"
            ]
          },
          "metadata": {
            "tags": []
          },
          "execution_count": 18
        }
      ]
    },
    {
      "cell_type": "code",
      "metadata": {
        "colab": {
          "base_uri": "https://localhost:8080/"
        },
        "id": "Y8OZyRwicKXM",
        "outputId": "5ecf0789-9bf2-4be3-8739-a6d7f62cd078"
      },
      "source": [
        "Suma = sum(D)\r\n",
        "Suma"
      ],
      "execution_count": 19,
      "outputs": [
        {
          "output_type": "execute_result",
          "data": {
            "text/plain": [
              "55"
            ]
          },
          "metadata": {
            "tags": []
          },
          "execution_count": 19
        }
      ]
    },
    {
      "cell_type": "code",
      "metadata": {
        "colab": {
          "base_uri": "https://localhost:8080/"
        },
        "id": "a8KaibOicoJX",
        "outputId": "1502d6ec-19da-4169-99c8-3c81dc9a8a9e"
      },
      "source": [
        "Longitud = len(D)\r\n",
        "Longitud"
      ],
      "execution_count": 20,
      "outputs": [
        {
          "output_type": "execute_result",
          "data": {
            "text/plain": [
              "10"
            ]
          },
          "metadata": {
            "tags": []
          },
          "execution_count": 20
        }
      ]
    },
    {
      "cell_type": "code",
      "metadata": {
        "colab": {
          "base_uri": "https://localhost:8080/"
        },
        "id": "f_rOKamvctBD",
        "outputId": "d0a41f5f-529c-4d69-964e-7830a6f75d24"
      },
      "source": [
        "Promedio = sum(D)/len(D)\r\n",
        "Promedio"
      ],
      "execution_count": 21,
      "outputs": [
        {
          "output_type": "execute_result",
          "data": {
            "text/plain": [
              "5.5"
            ]
          },
          "metadata": {
            "tags": []
          },
          "execution_count": 21
        }
      ]
    },
    {
      "cell_type": "code",
      "metadata": {
        "colab": {
          "base_uri": "https://localhost:8080/"
        },
        "id": "eGKTo_MKc7rr",
        "outputId": "bd8461d6-1b2e-4239-e37c-1ea7a619fb49"
      },
      "source": [
        "import statistics as st\r\n",
        "Promedio2 = st.mean(D)\r\n",
        "Promedio2"
      ],
      "execution_count": 22,
      "outputs": [
        {
          "output_type": "execute_result",
          "data": {
            "text/plain": [
              "5.5"
            ]
          },
          "metadata": {
            "tags": []
          },
          "execution_count": 22
        }
      ]
    },
    {
      "cell_type": "markdown",
      "metadata": {
        "id": "Sv6Tq7VedRnb"
      },
      "source": [
        "#Listas con Strings"
      ]
    },
    {
      "cell_type": "code",
      "metadata": {
        "colab": {
          "base_uri": "https://localhost:8080/"
        },
        "id": "aANMxBJbdN_H",
        "outputId": "7bdd9e18-4d13-4ee3-8c19-25d1070da814"
      },
      "source": [
        "Cadenas = [\"abc\",\"def\",\"ghi\",\"jkl\"]\r\n",
        "print (Cadenas)\r\n",
        "\r\n",
        "print (Cadenas[3][2])"
      ],
      "execution_count": 24,
      "outputs": [
        {
          "output_type": "stream",
          "text": [
            "['abc', 'def', 'ghi', 'jkl']\n",
            "l\n"
          ],
          "name": "stdout"
        }
      ]
    },
    {
      "cell_type": "code",
      "metadata": {
        "colab": {
          "base_uri": "https://localhost:8080/"
        },
        "id": "xwGlDpmAdvrQ",
        "outputId": "7c157dee-e395-4870-c1f0-54d56e689f69"
      },
      "source": [
        "Longitud = len(Cadenas)\r\n",
        "Longitud"
      ],
      "execution_count": 25,
      "outputs": [
        {
          "output_type": "execute_result",
          "data": {
            "text/plain": [
              "4"
            ]
          },
          "metadata": {
            "tags": []
          },
          "execution_count": 25
        }
      ]
    },
    {
      "cell_type": "code",
      "metadata": {
        "colab": {
          "base_uri": "https://localhost:8080/"
        },
        "id": "FR3mTJ1Md0mm",
        "outputId": "2338238e-f8ad-4b2b-bd30-8a68437e86f7"
      },
      "source": [
        "print(Cadenas[0:2])\r\n",
        "\r\n",
        "print (Cadenas[2][0:2])"
      ],
      "execution_count": 33,
      "outputs": [
        {
          "output_type": "stream",
          "text": [
            "['abc', 'def']\n",
            "gh\n"
          ],
          "name": "stdout"
        }
      ]
    },
    {
      "cell_type": "markdown",
      "metadata": {
        "id": "jVbJY8ZkeY1k"
      },
      "source": [
        "#Diccionarios"
      ]
    },
    {
      "cell_type": "code",
      "metadata": {
        "id": "wvLmweVvfz9R"
      },
      "source": [
        "Datos_Alumno = {\r\n",
        "    \"Nombre\":\"Octavio\",\r\n",
        "    \"Apellido\":\"Paz\",\r\n",
        "    \"Matrícula\":\"123456\",\r\n",
        "    \"Horario\":\"Matutino\",\r\n",
        "    \"Beca\":\"Si\"}"
      ],
      "execution_count": 36,
      "outputs": []
    },
    {
      "cell_type": "code",
      "metadata": {
        "colab": {
          "base_uri": "https://localhost:8080/"
        },
        "id": "-sd_qLHfgP3u",
        "outputId": "3f110e06-515b-4bc7-a54e-d003f9f88620"
      },
      "source": [
        "print(Datos_Alumno[\"Matrícula\"])\r\n",
        "print(Datos_Alumno[\"Apellido\"])\r\n",
        "print(Datos_Alumno[\"Beca\"])"
      ],
      "execution_count": 41,
      "outputs": [
        {
          "output_type": "stream",
          "text": [
            "123456\n",
            "Paz\n",
            "Si\n"
          ],
          "name": "stdout"
        }
      ]
    },
    {
      "cell_type": "code",
      "metadata": {
        "colab": {
          "base_uri": "https://localhost:8080/"
        },
        "id": "ib7kaO44gtCv",
        "outputId": "bc8d70db-ee23-4ed8-ef45-422d0af62aa9"
      },
      "source": [
        "Datos_Alumno.update({\"Materias\":[\"Física\",\"Química\",\"Programación\"]})\r\n",
        "Datos_Alumno"
      ],
      "execution_count": 44,
      "outputs": [
        {
          "output_type": "execute_result",
          "data": {
            "text/plain": [
              "{'Apellido': 'Paz',\n",
              " 'Beca': 'Si',\n",
              " 'Horario': 'Matutino',\n",
              " 'Materias': ['Física', 'Química', 'Programación'],\n",
              " 'Matrícula': '123456',\n",
              " 'Nombre': 'Octavio'}"
            ]
          },
          "metadata": {
            "tags": []
          },
          "execution_count": 44
        }
      ]
    },
    {
      "cell_type": "code",
      "metadata": {
        "colab": {
          "base_uri": "https://localhost:8080/"
        },
        "id": "hWEt1fGVhDKu",
        "outputId": "6152bf86-97fa-4e1d-a7bc-b31507d4fec5"
      },
      "source": [
        "print(Datos_Alumno[\"Materias\"])\r\n",
        "print(Datos_Alumno[\"Materias\"][0:2])"
      ],
      "execution_count": 46,
      "outputs": [
        {
          "output_type": "stream",
          "text": [
            "['Física', 'Química', 'Programación']\n",
            "['Física', 'Química']\n"
          ],
          "name": "stdout"
        }
      ]
    },
    {
      "cell_type": "markdown",
      "metadata": {
        "id": "QG5Bc4G6hVKf"
      },
      "source": [
        "#Diccionarios anidados"
      ]
    },
    {
      "cell_type": "code",
      "metadata": {
        "colab": {
          "base_uri": "https://localhost:8080/"
        },
        "id": "q-age3dYhXBM",
        "outputId": "e96d57c1-66da-4287-cd48-a54e6439b284"
      },
      "source": [
        "Pacientes = [\r\n",
        "             {\r\n",
        "              \"Nombre\":\"Juan\",\r\n",
        "              \"Seguro\":\"Si\",\r\n",
        "              \"ID_seguro\":\"987654321\",\r\n",
        "              \"Covid\":\"Si\",\r\n",
        "              \"G_sanguineo\":\"AB+\"\r\n",
        "             },\r\n",
        "             {\r\n",
        "              \"Nombre\":\"María\",\r\n",
        "              \"Seguro\":\"Si\",\r\n",
        "              \"ID_seguro\":\"123456789\",\r\n",
        "              \"Covid\":\"No\",\r\n",
        "              \"G_sanguineo\":\"A+\"\r\n",
        "             },\r\n",
        "             {\r\n",
        "              \"Nombre\":\"Ernesto\",\r\n",
        "              \"Seguro\":\"No\",\r\n",
        "              \"ID_seguro\":\"N/A\",\r\n",
        "              \"Covid\":\"No\",\r\n",
        "              \"G_sanguineo\":\"B+\"\r\n",
        "             }\r\n",
        "]\r\n",
        "\r\n",
        "Pacientes[0]\r\n",
        "\r\n",
        "print(Pacientes[1][\"Nombre\"])\r\n",
        "print(Pacientes[1][\"Seguro\"])\r\n",
        "print(Pacientes[1][\"ID_seguro\"])"
      ],
      "execution_count": 53,
      "outputs": [
        {
          "output_type": "stream",
          "text": [
            "María\n",
            "Si\n",
            "123456789\n"
          ],
          "name": "stdout"
        }
      ]
    },
    {
      "cell_type": "code",
      "metadata": {
        "colab": {
          "base_uri": "https://localhost:8080/"
        },
        "id": "sbXe6bGgjCWd",
        "outputId": "5e247b9f-ea99-4e3f-f716-5f35cda92f21"
      },
      "source": [
        "print(Pacientes[2][\"Seguro\"])\r\n",
        "print(Pacientes[2][\"Covid\"])\r\n",
        "print(Pacientes[2][\"G_sanguineo\"])"
      ],
      "execution_count": 57,
      "outputs": [
        {
          "output_type": "stream",
          "text": [
            "No\n",
            "No\n",
            "B+\n"
          ],
          "name": "stdout"
        }
      ]
    },
    {
      "cell_type": "code",
      "metadata": {
        "colab": {
          "base_uri": "https://localhost:8080/"
        },
        "id": "048lks8TjVJ2",
        "outputId": "367f759f-0fbb-4d57-f521-228d6dce6e8b"
      },
      "source": [
        "print(Pacientes[0][\"G_sanguineo\"][0:2])"
      ],
      "execution_count": 58,
      "outputs": [
        {
          "output_type": "stream",
          "text": [
            "AB\n"
          ],
          "name": "stdout"
        }
      ]
    },
    {
      "cell_type": "markdown",
      "metadata": {
        "id": "mMgAPY8hjzZE"
      },
      "source": [
        "#TAREA\r\n",
        "\r\n",
        "\r\n",
        "*   Anidar diccionarios (mínimo 2)\r\n",
        "*   El programa solicite que teclees el valor de las variables\r\n",
        "*   Luego estas se agreguen al diccionario con **UPDATE**\r\n",
        "\r\n"
      ]
    },
    {
      "cell_type": "code",
      "metadata": {
        "colab": {
          "base_uri": "https://localhost:8080/"
        },
        "id": "DA0ACdHaj1Zq",
        "outputId": "4669133c-7bd1-4a2d-b045-ac39e02ef9dc"
      },
      "source": [
        "#Definición del diccionario\r\n",
        "\r\n",
        "biblio =[{\r\n",
        "    \"título\":\"El principito\",\r\n",
        "    \"autor\":\"Antoine de Saint-Exupéry\",\r\n",
        "    \"año\":1943\r\n",
        "    },\r\n",
        "    {\r\n",
        "    \"título\":\"El ingenioso Hidalgo Don Quijote de la Mancha\",\r\n",
        "    \"autor\":\"Miguel de Cervantes Saavedra\",\r\n",
        "    \"año\":1605\r\n",
        "    }\r\n",
        "    ]\r\n",
        "\r\n",
        "#Se van a agregar un par de campos a cada registro del diccionario anidado\r\n",
        "\r\n",
        "biblio[0].update({\"género\":\"Literatura infantil\"})\r\n",
        "biblio[1].update({\"género\":\"Novela clásica\"})\r\n",
        "biblio[0].update({\"calificación\":4.8})\r\n",
        "biblio[1].update({\"calificación\":3.8})\r\n",
        "\r\n",
        "#Se van a introducir nuevos registros al diccionario, pero será el usuario el que los agregue\r\n",
        "\r\n",
        "título = input(\"Da el título del libro \")\r\n",
        "autor = input(\"Da el nombre del autor \")\r\n",
        "año = int(input(\"Introduce el año de publicación \"))\r\n",
        "género = input(\"Introduce el género pertenece el libro \")\r\n",
        "calificación = float(input(\"Introduce la calificación que le das a este libro \"))\r\n",
        "\r\n",
        "biblio.append({\r\n",
        "    \"título\":título,\r\n",
        "    \"autor\":autor,\r\n",
        "    \"año\":año,\r\n",
        "    \"género\":género,\r\n",
        "    \"calificación\":calificación\r\n",
        "})\r\n",
        "\r\n",
        "print(biblio)\r\n",
        "#print(type(biblio))\r\n",
        "\r\n",
        "\r\n",
        "\r\n",
        "#Actualización del diccionario para agregar un par de campos más\r\n",
        " #   \"género\": \"Literatura infantil\",\r\n",
        "  #  \"isbn\":\"9780156013925\"\r\n",
        "\r\n"
      ],
      "execution_count": 81,
      "outputs": [
        {
          "output_type": "stream",
          "text": [
            "Da el título del libro Ready player one\n",
            "Da el nombre del autor Ernest Cline\n",
            "Introduce el año de publicación 2011\n",
            "Introduce el género pertenece el libro Ciencia ficción\n",
            "Introduce la calificación que le das a este libro 4.3\n",
            "[{'título': 'El principito', 'autor': 'Antoine de Saint-Exupéry', 'año': 1943, 'género': 'Literatura infantil', 'calificación': 4.8}, {'título': 'El ingenioso Hidalgo Don Quijote de la Mancha', 'autor': 'Miguel de Cervantes Saavedra', 'año': 1605, 'género': 'Novela clásica', 'calificación': 3.8}, {'título': 'Ready player one', 'autor': 'Ernest Cline', 'año': 2011, 'género': 'Ciencia ficción', 'calificación': 4.3}]\n"
          ],
          "name": "stdout"
        }
      ]
    }
  ]
}