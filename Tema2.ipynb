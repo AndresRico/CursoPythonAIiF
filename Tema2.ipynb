{
  "nbformat": 4,
  "nbformat_minor": 0,
  "metadata": {
    "colab": {
      "name": "Tema2.ipynb",
      "provenance": [],
      "collapsed_sections": [],
      "authorship_tag": "ABX9TyOQslwLkgvuWgLFVIOsiyxG",
      "include_colab_link": true
    },
    "kernelspec": {
      "name": "python3",
      "display_name": "Python 3"
    }
  },
  "cells": [
    {
      "cell_type": "markdown",
      "metadata": {
        "id": "view-in-github",
        "colab_type": "text"
      },
      "source": [
        "<a href=\"https://colab.research.google.com/github/AndresRico/CursoPythonAIiF/blob/main/Tema2.ipynb\" target=\"_parent\"><img src=\"https://colab.research.google.com/assets/colab-badge.svg\" alt=\"Open In Colab\"/></a>"
      ]
    },
    {
      "cell_type": "markdown",
      "metadata": {
        "id": "hPthHbj1lPIK"
      },
      "source": [
        "# Tema 2"
      ]
    },
    {
      "cell_type": "code",
      "metadata": {
        "colab": {
          "base_uri": "https://localhost:8080/"
        },
        "id": "SPeC_8RjlCOC",
        "outputId": "e87def9f-2eef-49e5-a2cd-3c181c677b51"
      },
      "source": [
        "print(\"Hola Mundo\");"
      ],
      "execution_count": null,
      "outputs": [
        {
          "output_type": "stream",
          "text": [
            "Hola Mundo\n"
          ],
          "name": "stdout"
        }
      ]
    },
    {
      "cell_type": "code",
      "metadata": {
        "colab": {
          "base_uri": "https://localhost:8080/"
        },
        "id": "NSuVC0DRvLVA",
        "outputId": "59a66abe-d788-40f8-bccc-9b3b1ae4d921"
      },
      "source": [
        "# Creando una variable STRING\r\n",
        "Mensaje=\"Hola\"\r\n",
        "\r\n",
        "#Imprimiendo la variable\r\n",
        "#print(Mensaje)\r\n",
        "\r\n",
        "print(\"\\t¿Cómo estás?\\n \\tEstoy bien\",Mensaje)\r\n",
        "#\\n es un salto de lí´nea\r\n",
        "#\\t es un tabulador\r\n"
      ],
      "execution_count": 3,
      "outputs": [
        {
          "output_type": "stream",
          "text": [
            "¿Cuál es tu nombre\n",
            "asd\n",
            "asd\n",
            "¿Cuál es tu apellido?asd\n"
          ],
          "name": "stdout"
        }
      ]
    },
    {
      "cell_type": "code",
      "metadata": {
        "id": "bbY9PkO90FLf"
      },
      "source": [
        "#Concatenación de STRINGS\r\n",
        "M_1=\"Estoy\"\r\n",
        "M_2=\"dando\"\r\n",
        "M_3=\"una clase\"\r\n",
        "M_Total = M_1+\" \"+M_2+\" \"+M_3\r\n",
        "print(M_Total)\r\n",
        "print(M_1+\" \"+M_2+\" \"+M_3+\" de Python\")\r\n",
        "\r\n",
        "Numero_1=1\r\n",
        "Numero_2=2\r\n",
        "Numero_3=Numero_1+Numero_2\r\n",
        "print(Numero_3)"
      ],
      "execution_count": null,
      "outputs": []
    },
    {
      "cell_type": "code",
      "metadata": {
        "colab": {
          "base_uri": "https://localhost:8080/"
        },
        "id": "4NLiD2OzxzvA",
        "outputId": "76d7401b-41d9-4f97-9640-c6a110de65d8"
      },
      "source": [
        "#Programa que solicita primer nombre, segundo nombre, apellido parterno y materno y muestra el nombre completo\r\n",
        "\r\n",
        "#Solicitamos valores para las cuatro variables\r\n",
        "Nombre_1=input(\"¿Cual es tu primer nombre? \")\r\n",
        "Nombre_2=input(\"¿Cuál es tu segundo nombre? \")\r\n",
        "Apellido_P=input(\"¿Cuál es tu apellido paterno? \")\r\n",
        "Apellido_M=input(\"¿Cuál es tu apellido materno? \")\r\n",
        "\r\n",
        "#Se crea una sola variable con la concatenación de las otras 4 variables\r\n",
        "Nom_Com = Nombre_1+\" \"+Nombre_2+\" \"+Apellido_P+\" \"+Apellido_M\r\n",
        "\r\n",
        "#Se muestra el resultado de la variable\r\n",
        "print(\"\\tTu nombre completo es\\n\\t\\t\",Nom_Com)\r\n",
        "\r\n",
        "\r\n",
        "\r\n"
      ],
      "execution_count": 9,
      "outputs": [
        {
          "output_type": "stream",
          "text": [
            "¿Cual es tu primer nombre? a\n",
            "¿Cuál es tu segundo nombre? b\n",
            "¿Cuál es tu apellido paterno? c\n",
            "¿Cuál es tu apellido materno? d\n",
            "\tTu nombre completo es\n",
            "\t\t a b c d\n"
          ],
          "name": "stdout"
        }
      ]
    }
  ]
}